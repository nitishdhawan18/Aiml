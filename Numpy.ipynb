{
  "nbformat": 4,
  "nbformat_minor": 0,
  "metadata": {
    "colab": {
      "provenance": [],
      "include_colab_link": true
    },
    "kernelspec": {
      "name": "python3",
      "display_name": "Python 3"
    },
    "language_info": {
      "name": "python"
    }
  },
  "cells": [
    {
      "cell_type": "markdown",
      "metadata": {
        "id": "view-in-github",
        "colab_type": "text"
      },
      "source": [
        "<a href=\"https://colab.research.google.com/github/nitishdhawan18/Aiml/blob/main/Numpy.ipynb\" target=\"_parent\"><img src=\"https://colab.research.google.com/assets/colab-badge.svg\" alt=\"Open In Colab\"/></a>"
      ]
    },
    {
      "cell_type": "code",
      "execution_count": null,
      "metadata": {
        "id": "o5GHZJv2lXoE"
      },
      "outputs": [],
      "source": [
        "import numpy as np\n",
        "\n",
        "\n",
        "a = np.array([1,2,3])\n",
        "b = np.array([(1.5,2,3), (4,5,6)], dtype = float)\n",
        "c = np.array([[(1.5,2,3), (4,5,6)], [(3,2,1), (4,5,6)]],dtype = float)\n",
        "\n",
        "\n",
        "a\n",
        "\n",
        "array([1, 2, 3])\n",
        "\n",
        "b\n",
        "\n",
        "array([[1.5, 2. , 3. ],\n",
        "       [4. , 5. , 6. ]])\n",
        "\n",
        "d = np.array([4,5,6])\n",
        "\n",
        "\n",
        "e = a+d\n",
        "\n",
        "\n",
        "e\n",
        "\n",
        "\n",
        "array([5, 7, 9])\n",
        "\n",
        " f = b = np.array([(5,2,3), (13,5,6)], dtype = float)\n",
        "\n",
        "\n",
        "g = b + f\n",
        "\n",
        "\n",
        "\n",
        "g\n",
        "\n",
        "array([[10.,  4.,  6.],\n",
        "       [26., 10., 12.]])\n",
        "\n",
        "a.sort()\n",
        "\n",
        "\n",
        "a\n",
        "\n",
        "\n",
        "array([1, 2, 3])\n",
        "\n",
        "g.sort()\n",
        "\n",
        "\n",
        "g\n",
        "\n",
        "array([[ 4.,  6., 10.],\n",
        "       [10., 12., 26.]])"
      ]
    }
  ]
}